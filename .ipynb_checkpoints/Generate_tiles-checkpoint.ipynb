{
 "cells": [
  {
   "cell_type": "markdown",
   "metadata": {},
   "source": [
    "### 0] Import libs"
   ]
  },
  {
   "cell_type": "code",
   "execution_count": 1,
   "metadata": {
    "scrolled": true
   },
   "outputs": [],
   "source": [
    "import os\n",
    "import scipy\n",
    "import numpy as np\n",
    "import matplotlib.pyplot as plt\n",
    "os.environ['PATH'] = r\"openslide-win64-20171122\\bin\" + \";\" + os.environ['PATH']\n",
    "from openslide import OpenSlide\n",
    "from openslide.deepzoom import DeepZoomGenerator\n",
    "import xml.etree.ElementTree as ET\n",
    "parser = ET.XMLParser(encoding=\"utf-8\")\n",
    "import cv2 as cv\n",
    "import scipy.ndimage\n",
    "import xmltodict, json\n",
    "import pandas as pd\n",
    "import time"
   ]
  },
  {
   "cell_type": "code",
   "execution_count": 2,
   "metadata": {},
   "outputs": [],
   "source": [
    "images_folder = 'IMAGES_2'\n",
    "annotations_folder = 'ANNOTATIONS_2'"
   ]
  },
  {
   "cell_type": "markdown",
   "metadata": {},
   "source": [
    "### 1] Definition of a function to get the tiles fro mthe generator"
   ]
  },
  {
   "cell_type": "code",
   "execution_count": 3,
   "metadata": {},
   "outputs": [],
   "source": [
    "def compute_max_addresses(DZG,tile_size,level,overlap):\n",
    "    \"\"\"\n",
    "    input:\n",
    "    - Tile generator DZG\n",
    "    - The size of the tile\n",
    "    - the level of observation\n",
    "    - the value of overlap\n",
    "    \n",
    "    output:\n",
    "    - the max value of the adresses for a tile in  the slide\n",
    "    \"\"\"\n",
    "    lvl_dim = DZG.level_dimensions\n",
    "    #size of the whole slide image with level k\n",
    "\n",
    "    new_w, new_h = lvl_dim[level]\n",
    "    address_max_w, address_max_h = (np.array([new_w, new_h])/tile_size).astype('int') - overlap\n",
    "\n",
    "\n",
    "    #max value of addresses\n",
    "    return(address_max_w,address_max_h)"
   ]
  },
  {
   "cell_type": "code",
   "execution_count": 4,
   "metadata": {},
   "outputs": [],
   "source": [
    "def get_tile_1(DZG, level, address_w,address_h):\n",
    "    \"\"\"\n",
    "    input:\n",
    "    - Tile generator DZG\n",
    "    - level of observation\n",
    "    - adress width of the tile\n",
    "    - adress heigh of the tile\n",
    "    output:\n",
    "    - the image tile \n",
    "    \"\"\"\n",
    "    ###Choose level \n",
    "    lvl_count = DZG.level_count\n",
    "    \n",
    "    print('the max level is : {}'.format(lvl_count))    \n",
    "    if level >= lvl_count:\n",
    "        print('the level count is too high')\n",
    "    else:\n",
    "        lvl_dim = DZG.level_dimensions\n",
    "        print('the size of the whole slide image is: {}'.format(lvl_dim[level]))\n",
    "\n",
    "        tile = DZG.get_tile(level,address = np.array([address_w,address_h]))\n",
    "        img = tile\n",
    "        return img"
   ]
  },
  {
   "cell_type": "code",
   "execution_count": 1,
   "metadata": {},
   "outputs": [],
   "source": [
    "def annotation_to_dataframe(annotation_number,filename):\n",
    "    \n",
    "    \"\"\"\n",
    "    input:\n",
    "    - the number of the annotation (written in the xml)\n",
    "    - the filename (ex: tumor_110)\n",
    "    \n",
    "    output:\n",
    "    'dataframe with 3 columns:\n",
    "    1_ the order of the vertex\n",
    "    2_ the value of the X coordinate of the vertex\n",
    "    3_ the value of the Y coordinate of the vertex\n",
    "    \n",
    "    The values of X and Y are the values in the WSI\n",
    "    \n",
    "    \"\"\"\n",
    "\n",
    "    with open(os.path.join(annotations_folder,filename)+'.tif.xml') as xml_file:\n",
    "        data_dict = xmltodict.parse(xml_file.read())\n",
    "    nodes = data_dict['ASAP_Annotations']['Annotations']['Annotation'][annotation_number]['Coordinates']['Coordinate']\n",
    "    length = len(nodes)\n",
    "    coord = np.zeros((length,3))\n",
    "    for i in range(length):\n",
    "        iter_ = nodes[i]\n",
    "        coord[i] = np.array([iter_['@Order'], iter_['@X'], iter_['@Y']])\n",
    "    df = pd.DataFrame(data=coord, columns=['Order', \"X\",'Y'])\n",
    "    return df"
   ]
  }
 ],
 "metadata": {
  "kernelspec": {
   "display_name": "Python 3",
   "language": "python",
   "name": "python3"
  },
  "language_info": {
   "codemirror_mode": {
    "name": "ipython",
    "version": 3
   },
   "file_extension": ".py",
   "mimetype": "text/x-python",
   "name": "python",
   "nbconvert_exporter": "python",
   "pygments_lexer": "ipython3",
   "version": "3.8.5"
  }
 },
 "nbformat": 4,
 "nbformat_minor": 2
}
